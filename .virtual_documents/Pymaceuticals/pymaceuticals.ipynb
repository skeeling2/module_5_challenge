


# Dependencies and Setup
import matplotlib.pyplot as plt
import pandas as pd
import scipy.stats as st

# Study data files
mouse_metadata_path = "data/Mouse_metadata.csv"
study_results_path = "data/Study_results.csv"

# Read the mouse data and the study results
mouse_metadata = pd.read_csv(mouse_metadata_path)
study_results = pd.read_csv(study_results_path)

# Combine the data into a single DataFrame
combined_data = pd.merge(study_results, mouse_metadata, on="Mouse ID", how="left")

# Display the data table for preview
combined_data


# Checking the number of mice. 
combined_data["Mouse ID"].nunique()


# Our data should be uniquely identified by Mouse ID and Timepoint array(['g989'], dtype=object)
# Get the duplicate mice by ID number that shows up for Mouse ID and Timepoint. 
duplicate = combined_data[combined_data.duplicated()]
duplicate
#array(['g989'], dtype=object) - I don't know how to get this answer


# Optional: Get all the data for the duplicate mouse ID. 
mouse_g989 = combined_data.loc[combined_data["Mouse ID"]=="g989",:]
mouse_g989


# Create a clean DataFrame by dropping the duplicate mouse by its ID.

mouse_df = combined_data.drop(combined_data[combined_data["Mouse ID"] == "g989"].index)
mouse_df


# Checking the number of mice in the clean DataFrame.
mouse_df["Mouse ID"].nunique()





# Generate a summary statistics table of mean, median, variance, standard deviation, and SEM of the tumor volume for each regimen

# Use groupby and summary statistical methods to calculate the following properties of each drug regimen: 
# mean, median, variance, standard deviation, and SEM of the tumor volume. 

drug_df = mouse_df.groupby(["Drug Regimen"])
mean = drug_df["Tumor Volume (mm3)"].mean()
median = drug_df["Tumor Volume (mm3)"].median()
variance = drug_df["Tumor Volume (mm3)"].var()
stdev = drug_df["Tumor Volume (mm3)"].std()
SEM = drug_df["Tumor Volume (mm3)"].sem()

# Assemble the resulting series into a single summary DataFrame.

mouse_stats_df = pd.DataFrame({"Mean Tumor Volume" : mean, "Median Tumor Volume" : median,
                               "Tumor Volume Variance" : variance, "Tumor Volume Std. Dev.": stdev,
                               "Tumor Volume Std. Err.": SEM})
mouse_stats_df



# A more advanced method to generate a summary statistics table of mean, median, variance, standard deviation,
# and SEM of the tumor volume for each regimen (only one method is required in the solution)

# Using the aggregation method, produce the same summary statistics in a single line
drug_df.aggregate({"Tumor Volume (mm3)":['mean', 'median', 'var', 'std', 'sem']}) 





# Generate a bar plot showing the total number of rows (Mouse ID/Timepoints) for each drug regimen using Pandas.
mouse_timepoints = drug_df["Timepoint"].count()
chart1 = mouse_timepoints.plot(kind="bar")
chart1.set_xlabel("Drug Regimen")
chart1.set_ylabel("# of Observed Mouse Time Points")


# Generate a bar plot showing the total number of rows (Mouse ID/Timepoints) for each drug regimen using pyplot.
drug = mouse_df["Drug Regimen"].unique()
count_drug = drug_df["Mouse ID"].count()
plt.bar(drug, count_drug, color = "blue", align = "center")
plt.xticks(rotation = "vertical")
plt.xlabel("Drug Regimen")
plt.ylabel("# of Observed Mouse Time Points")


# Generate a pie plot showing the distribution of female versus male mice using Pandas
mouse_sex = mouse_df[["Mouse ID", "Sex"]]
count_mouse_sex = mouse_sex["Sex"].value_counts()
chart2 = count_mouse_sex.plot(kind="pie", autopct = "%1.1f%%")


# Generate a pie plot showing the distribution of female versus male mice using pyplot
sex = mouse_df["Sex"].value_counts()
labels = ["Male", "Female"]
pie2 = plt.pie(sex, labels = labels, autopct = "%1.1f%%")





# Calculate the final tumor volume of each mouse across four of the treatment regimens:  
# Capomulin, Ramicane, Infubinol, and Ceftamin

# Start by getting the last (greatest) timepoint for each mouse
mouse_max = mouse_df.groupby(["Mouse ID"])
mouse_max_df = pd.DataFrame(mouse_max[["Timepoint"]].max())

# Merge this group df with the original DataFrame to get the tumor volume at the last timepoint
final_treatment = pd.merge(mouse_max_df, mouse_df, on=["Mouse ID", "Timepoint"], how="left")
final_treatment


# Put treatments into a list for for loop (and later for plot labels)
treatments = ["Capomulin", "Ramicane", "Infubinol", "Ceftamin"]

# Create empty list to fill with tumor vol data (for plotting)
   # Locate the rows which contain mice on each drug and get the tumor volumes
   # add subset 
tumor_vol_data = []

for i in treatments:
    tumor_volumes = final_treatment.loc[final_treatment["Drug Regimen"] == i, "Tumor Volume (mm3)"]
    tumor_vol_data.append(tumor_volumes)
    
# Calculate the IQR and quantitatively determine if there are any potential outliers. 
    quartiles = tumor_volumes.quantile([.25,.5,.75])
    lowerq = quartiles[0.25]
    upperq = quartiles[0.75]
    iqr = upperq-lowerq
    lower_bound = lowerq - (1.5*iqr)
    upper_bound = upperq + (1.5*iqr)

 

    
    # Determine outliers using upper and lower bounds
    outliers = tumor_volumes.loc[(tumor_volumes < lower_bound) | (tumor_volumes > upper_bound)]
    print(f"{i}'s potential outliers: {outliers}")



# Generate a box plot that shows the distrubution of the tumor volume for each treatment group.
fig1, ax1 = plt.subplots()
ax1.boxplot(tumor_vol_data, flierprops = dict(marker = "o", markerfacecolor = "red"))
ax1.set_ylabel("Final Tumor Volume (mm3)")
ax1.set_xlabel("Drug Regimen")
ax1.set_xticklabels(["Capomulin", "Ramicane", 
                    "Infubinol", "Ceftamin"])







# Generate a line plot of tumor volume vs. time point for a single mouse treated with Capomulin
mouse_l509 = mouse_df.loc[mouse_df["Mouse ID"] == "l509"]
x_axis = mouse_l509["Timepoint"]
y_axis = mouse_l509["Tumor Volume (mm3)"]
mouse_l509_chart = plt.plot(x_axis, y_axis)
plt.xlabel("Timepoint")
plt.ylabel("Tumor Volume (mm3)")
plt.title("Tumor Volume Over Time in Mouse l509 Treated with Capomulin")



# Generate a scatter plot of mouse weight vs. the average observed tumor volume for the entire Capomulin regimen
capomulin = mouse_df.loc[mouse_df["Drug Regimen"] == "Capomulin"]
capomulin_by_mouse = capomulin.groupby(["Mouse ID"])
capomulin_avg = capomulin_by_mouse["Tumor Volume (mm3)"].mean()
cap_tumor_df = pd.DataFrame(capomulin_avg)
cap_combined_data = pd.merge(cap_tumor_df, capomulin, on="Mouse ID", how="right")
cap_combined_data = cap_combined_data.rename(columns={"Tumor Volume (mm3)_x": "Avg Tumor Volume (mm3)"})
cap_combined_data
capomulin_scatter = cap_combined_data.plot("Weight (g)", "Avg Tumor Volume (mm3)", kind = "scatter", title = "Avg Tumor Volume by Weight in Capomulin Regimen")






# Calculate the correlation coefficient and a linear regression model 
# for mouse weight and average observed tumor volume for the entire Capomulin regimen
x_values = cap_combined_data["Weight (g)"]
y_values = cap_combined_data["Avg Tumor Volume (mm3)"]
(slope, intercept, rvalue, pvalue, stderr) = st.linregress(x_values, y_values)
regress_values = x_values*slope + intercept
regress_plot = cap_combined_data.plot("Weight (g)", "Avg Tumor Volume (mm3)", kind = "scatter", title = "Avg Tumor Volume by Weight in Capomulin Regimen")
plt.plot(x_values, regress_values, "r-")
plt.xlabel("Weight (g)")
plt.ylabel("Average Tumor Volume (mm3)")
print(f"The correlation between mouse weight and the average tumor volume is {round(rvalue,2)}")



